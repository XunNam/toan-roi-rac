{
 "cells": [
  {
   "cell_type": "code",
   "execution_count": 7,
   "metadata": {},
   "outputs": [],
   "source": [
    "# Lib\n",
    "import itertools, random\n",
    "import matplotlib.pyplot as plt\n",
    "import numpy.random as rnd\n",
    "from matplotlib.patches import Ellipse"
   ]
  },
  {
   "cell_type": "code",
   "execution_count": null,
   "metadata": {},
   "outputs": [],
   "source": [
    "# 1. Sử dụng thư viện itertools với các phép toán hỗ trợ xử lý về tổ hợp\n",
    "print(\"1. Sử dụng thư viện itertools với các phép toán hỗ trợ xử lý về tổ hợp\\n\")"
   ]
  },
  {
   "cell_type": "code",
   "execution_count": null,
   "metadata": {},
   "outputs": [],
   "source": [
    "# Tích tổng tích tụ\n",
    "print(\"1.1 Tích tổng tích tụ\")\n",
    "for i in itertools.accumulate([1, 2, 3, 4, 5, 6, 7, 8, 9, 10]):\n",
    "    print(i)\n",
    "print(\"\\n\")"
   ]
  },
  {
   "cell_type": "code",
   "execution_count": null,
   "metadata": {},
   "outputs": [],
   "source": [
    "# Hàm lặp\n",
    "print(\"1.2 Hàm lặp\")\n",
    "for i in itertools.repeat(\"Red\", 3):\n",
    "    print(i)\n",
    "print(\"\\n\")"
   ]
  },
  {
   "cell_type": "code",
   "execution_count": null,
   "metadata": {},
   "outputs": [],
   "source": [
    "# Tích Descartes\n",
    "print(\"1.3 Tích Descartes\")\n",
    "print(\"Phương pháp 1: Viết mã thuần bằng Python\")\n",
    "for i in ((i, j) for i in [1, 2] for j in [6, 7, 8, 9]):\n",
    "    print(i)\n",
    "print(\"\\n\")"
   ]
  },
  {
   "cell_type": "code",
   "execution_count": null,
   "metadata": {},
   "outputs": [],
   "source": [
    "print(\"Phương pháp 2: Sử dụng itertools\")\n",
    "for i in itertools.product([1, 2], [6, 7, 8, 9]):\n",
    "    print(i)\n",
    "print(\"\\n\")"
   ]
  },
  {
   "cell_type": "code",
   "execution_count": null,
   "metadata": {},
   "outputs": [],
   "source": [
    "# Sinh viên cho biết các kết quả (sau khi đã có lệnh >>> import itertools)\n",
    "print(\"Sinh viên cho biết các kết quả (sau khi đã có lệnh >>> import itertools)\")\n",
    "for i in itertools.product(\"AB\", \"C\", \"DEF\"):\n",
    "    print(i)\n",
    "for i in itertools.product(\"24\", \"IT\", repeat=2):\n",
    "    print(i)\n",
    "print(\"\\n\")"
   ]
  },
  {
   "cell_type": "code",
   "execution_count": null,
   "metadata": {},
   "outputs": [],
   "source": [
    "# Hoán vị\n",
    "print(\"1.4 Hoán vị\")\n",
    "for i in itertools.permutations(\"ABC\", 2):\n",
    "    print(i)\n",
    "print(\"\\n\")"
   ]
  },
  {
   "cell_type": "code",
   "execution_count": null,
   "metadata": {},
   "outputs": [],
   "source": [
    "# Chỉnh hợp chập k từ n (permuatation)\n",
    "print(\"1.5 Chỉnh hợp tập k từ n (permutation)\")\n",
    "for i in itertools.permutations(\"ABC\", 2):\n",
    "    print(i)\n",
    "print(\"\\n\")"
   ]
  },
  {
   "cell_type": "code",
   "execution_count": null,
   "metadata": {},
   "outputs": [],
   "source": [
    "# Tổ hợp (Combinations)\n",
    "print(\"1.6 Tổ hợp (Combinations)\")\n",
    "for i in itertools.combinations(\"ABCDE\", 3):\n",
    "    print(i)\n",
    "print(\"\\n\")"
   ]
  },
  {
   "cell_type": "code",
   "execution_count": null,
   "metadata": {},
   "outputs": [],
   "source": [
    "# Ví dụ khác\n",
    "print(\"Ví dụ khác\")\n",
    "nhaccu = \"Đàn Trống Sáo Bo\".split()\n",
    "chonmua2mon = list(itertools.combinations(nhaccu, 2))\n",
    "print(chonmua2mon)\n",
    "print(\"\\n\")"
   ]
  },
  {
   "cell_type": "code",
   "execution_count": null,
   "metadata": {},
   "outputs": [],
   "source": [
    "# Tổ hợp có lặp (Combinations)\n",
    "print(\"1.7 Tổ hợp có lặp (Combinations)\")\n",
    "for i in itertools.combinations_with_replacement(\"ABCDE\", 3):\n",
    "    print(i)\n",
    "print(\"\\n\")"
   ]
  },
  {
   "cell_type": "code",
   "execution_count": null,
   "metadata": {},
   "outputs": [],
   "source": [
    "# Xoay vòng giá trị cần lấy\n",
    "print(\"1.8 Xoay vòng giá trị cần lấy\")\n",
    "for i in itertools.repeat(\"Red\", 3):\n",
    "    print(i)\n",
    "print(\"\\n\")"
   ]
  },
  {
   "cell_type": "code",
   "execution_count": null,
   "metadata": {},
   "outputs": [],
   "source": [
    "# Ôn luyện cơ bản về Python: Hàm ngẫu nhiên toán học và lặp trong Python\n",
    "print(\"2. Ôn luyện cơ bản về Python: Hàm ngẫu nhiên toán học và lặp trong Python\\n\")"
   ]
  },
  {
   "cell_type": "code",
   "execution_count": null,
   "metadata": {},
   "outputs": [],
   "source": [
    "# Cơ bản về hàm ngẫu nhiên trong Python\n",
    "print(\"2.1 Cơ bản về hàm ngẫu nhiên trong Python\\n\")"
   ]
  },
  {
   "cell_type": "code",
   "execution_count": null,
   "metadata": {},
   "outputs": [],
   "source": [
    "# Chọn ngẫu nhiên trong tập hợp có sẵn\n",
    "print(\"2.1.1 Chọn ngẫu nhiên trong tập hợp có sẵn\")\n",
    "print(random.choice([\"Táo\", \"Lê\", \"Ổi\", \"Chuối\"]))\n",
    "print(\"\\n\")"
   ]
  },
  {
   "cell_type": "code",
   "execution_count": null,
   "metadata": {},
   "outputs": [],
   "source": [
    "# Phát sinh số thực ngẫu nhiên trong khoảng số thực [0, 1]\n",
    "print(\"2.1.2 Phát sinh số thực ngẫu nhiên trong khoảng số thực [0, 1]\")\n",
    "print(random.random())\n",
    "print(\"\\n\")"
   ]
  },
  {
   "cell_type": "code",
   "execution_count": null,
   "metadata": {},
   "outputs": [],
   "source": [
    "# Phát sinh số thực ngẫu nhiên trong khoảng số thực [a, b]\n",
    "print(\"2.1.3 Phát sinh số thực ngẫu nhiên trong khoảng số thực [0, 1]\")\n",
    "print(random.uniform(4.9, 10.0))\n",
    "print(\"\\n\")"
   ]
  },
  {
   "cell_type": "code",
   "execution_count": null,
   "metadata": {},
   "outputs": [],
   "source": [
    "# Phát sinh số ngẫu nhiên trong khoảng 0 đến 5\n",
    "print(\"2.1.4 Phát sinh số ngẫu nhiên trong khoảng 0 đến 5\")\n",
    "print(random.randrange(6))\n",
    "print(\"\\n\")"
   ]
  },
  {
   "cell_type": "code",
   "execution_count": null,
   "metadata": {},
   "outputs": [],
   "source": [
    "# Phát sinh số ngẫu nhiên trong khoảng 50 đến 500\n",
    "print(\"2.1.5 Phát sinh số ngẫu nhiên trong khoảng 50 đến 500\")\n",
    "print(random.randrange(50, 500))\n",
    "print(\"\\n\")"
   ]
  },
  {
   "cell_type": "code",
   "execution_count": null,
   "metadata": {},
   "outputs": [],
   "source": [
    "# Phát sinh số nguyên chẵn ngẫu nhiên trong khoảng 20 dến 100\n",
    "print(\"2.1.6 Phát sinh số nguyên chẵn ngẫu nhiên trong khoảng 20 dến 100\")\n",
    "print(random.sample(range(100), 10))\n",
    "print(\"\\n\")"
   ]
  },
  {
   "cell_type": "code",
   "execution_count": null,
   "metadata": {},
   "outputs": [],
   "source": [
    "# Phát sinh ngẫu nhiên 10 giá trị trong khoảng giá trị từ 0 đến 99\n",
    "print(\"2.1.7 Phát sinh ngẫu nhiên 10 giá trị trong khoảng giá trị từ 0 đến 99\")\n",
    "print(random.sample(range(100), 10))"
   ]
  },
  {
   "cell_type": "code",
   "execution_count": null,
   "metadata": {},
   "outputs": [],
   "source": [
    "# Phát sinh ngẫu nhiên 15 giá trị trong khoảng 10 đến 99\n",
    "print(\"2.1.8 Phát sinh ngẫu nhiên 15 giá trị trong khoảng 10 đến 99\")\n",
    "print(random.sample(range(10, 100), 15))\n",
    "print(\"\\n\")"
   ]
  },
  {
   "cell_type": "code",
   "execution_count": null,
   "metadata": {},
   "outputs": [],
   "source": [
    "# Phát sinh ngẫu nhiên 5 giá trị trong danh sách [\"a\", \"b\", \"c\", \"d\", \"e\", \"f\", \"g\", \"h\", \"i\", \"j\"]\n",
    "print(\"2.1.9 Phát sinh ngẫu nhiên 5 giá trị trong danh sách [\\\"a\\\", \\\"b\\\", \\\"c\\\", \\\"d\\\", \\\"e\\\", \\\"f\\\", \\\"g\\\", \\\"h\\\", \\\"i\\\", \\\"j\\\"]\")\n",
    "chars = [\"a\", \"b\", \"c\", \"d\", \"e\", \"f\", \"g\", \"h\", \"i\", \"j\"]\n",
    "rand5_char = random.sample(chars, 5)\n",
    "print(rand5_char)\n",
    "print(\"\\n\")"
   ]
  },
  {
   "cell_type": "code",
   "execution_count": null,
   "metadata": {},
   "outputs": [],
   "source": [
    "# Ứng dụng minh hoạ: Vẽ ngẫu nhiên Eclipse\n",
    "print(\"2.2 Ứng dụng minh hoạ: Vẽ ngẫu nhiên Eclipse\")\n",
    "NUM = 10000  # Vẽ 10000 Eclipse ngẫu nhiên vị trí, góc\n",
    "\n",
    "ells = [Ellipse(xy = rnd.rand(2) * 10, width=rnd.rand(),\n",
    "                height=rnd.rand(), angle=rnd.rand() * 360)\n",
    "        for i in range(NUM)]\n",
    "fig = plt.figure(0)\n",
    "ax = fig.add_subplot(111, aspect='equal')\n",
    "for e in ells:\n",
    "    ax.add_artist(e)\n",
    "    e.set_clip_box(ax.bbox)\n",
    "    e.set_alpha(rnd.rand())\n",
    "    e.set_facecolor(rnd.rand(3))\n",
    "ax.set_xlim(0, 10)\n",
    "ax.set_ylim(0, 10)\n",
    "plt.show()"
   ]
  }
 ],
 "metadata": {
  "kernelspec": {
   "display_name": "Python 3",
   "language": "python",
   "name": "python3"
  },
  "language_info": {
   "codemirror_mode": {
    "name": "ipython",
    "version": 3
   },
   "file_extension": ".py",
   "mimetype": "text/x-python",
   "name": "python",
   "nbconvert_exporter": "python",
   "pygments_lexer": "ipython3",
   "version": "3.12.1"
  }
 },
 "nbformat": 4,
 "nbformat_minor": 2
}
